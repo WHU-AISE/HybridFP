{
 "cells": [
  {
   "cell_type": "code",
   "execution_count": null,
   "metadata": {},
   "outputs": [],
   "source": [
    "import pandas as pd\n",
    "import numpy as np\n",
    "import matplotlib.pyplot as plt\n",
    "from tqdm import tqdm"
   ]
  },
  {
   "cell_type": "code",
   "execution_count": null,
   "metadata": {},
   "outputs": [],
   "source": [
    "days = ['01','02','03','04','05','06','07','08','09','10','11','12','13','14']\n",
    "duration_format = 'function_durations_percentiles.anon.d%s.csv'\n",
    "invocation_format = 'invocations_per_function_md.anon.d%s.csv'"
   ]
  },
  {
   "cell_type": "code",
   "execution_count": null,
   "metadata": {},
   "outputs": [],
   "source": [
    "# duration_example = pd.read_csv(duration_format % '01')\n",
    "# print(duration_example.size)\n",
    "# duration_example.head(5)"
   ]
  },
  {
   "cell_type": "code",
   "execution_count": null,
   "metadata": {},
   "outputs": [],
   "source": [
    "invocation_example = pd.read_csv(invocation_format % '01')\n",
    "print(invocation_example.size)\n",
    "invocation_example.head(5)"
   ]
  },
  {
   "cell_type": "code",
   "execution_count": null,
   "metadata": {},
   "outputs": [],
   "source": [
    "# 得出IT分布图\n",
    "# ATC-2020指出，IT与exectue time和IAT有关，但是execute time远小于IAT，所以IT与IAT分布近似\n",
    "\n",
    "IT_dic = {}\n",
    "# print(invocation_example['HashFunction'].duplicated().sum())\n",
    "cols = [col for col in invocation_example.columns if col not in ['HashApp','HashOwner','Trigger','HashFunction']]\n",
    "\n",
    "def init_IT(row):\n",
    "    global IT_dic\n",
    "    func_key = row['HashFunction']\n",
    "    s = row[cols]\n",
    "    # print(s[:30])\n",
    "    IT_dic[func_key] = s[s == 0].groupby(s.ne(0).cumsum()).count().tolist()\n",
    "\n",
    "invocation_example.apply(init_IT, axis=1)\n"
   ]
  },
  {
   "cell_type": "code",
   "execution_count": null,
   "metadata": {},
   "outputs": [],
   "source": [
    "import pandas as pd\n",
    "s = pd.Series([0,1,1,0,1,0,0,1,1,0,1,0,0])\n",
    "s[s == 0].groupby(s.ne(0).cumsum()).count().tolist()"
   ]
  },
  {
   "cell_type": "code",
   "execution_count": null,
   "metadata": {},
   "outputs": [],
   "source": [
    "invocation_app_group = invocation_example.groupby('HashApp')\n",
    "cols = [col for col in invocation_example.columns if col not in ['HashOwner','HashApp','HashFunction','Trigger']]"
   ]
  },
  {
   "cell_type": "code",
   "execution_count": 6,
   "metadata": {},
   "outputs": [
    {
     "name": "stdout",
     "output_type": "stream",
     "text": [
      "func update coast time:0.00372531 s\n",
      "func update coast time:0.00267524 s\n",
      "func update coast time:0.00256782 s\n"
     ]
    },
    {
     "data": {
      "text/html": [
       "<div>\n",
       "<style scoped>\n",
       "    .dataframe tbody tr th:only-of-type {\n",
       "        vertical-align: middle;\n",
       "    }\n",
       "\n",
       "    .dataframe tbody tr th {\n",
       "        vertical-align: top;\n",
       "    }\n",
       "\n",
       "    .dataframe thead th {\n",
       "        text-align: right;\n",
       "    }\n",
       "</style>\n",
       "<table border=\"1\" class=\"dataframe\">\n",
       "  <thead>\n",
       "    <tr style=\"text-align: right;\">\n",
       "      <th></th>\n",
       "      <th>key</th>\n",
       "      <th>data1</th>\n",
       "      <th>data2</th>\n",
       "    </tr>\n",
       "  </thead>\n",
       "  <tbody>\n",
       "    <tr>\n",
       "      <th>0</th>\n",
       "      <td>a</td>\n",
       "      <td>-1</td>\n",
       "      <td>-1</td>\n",
       "    </tr>\n",
       "    <tr>\n",
       "      <th>1</th>\n",
       "      <td>b</td>\n",
       "      <td>0</td>\n",
       "      <td>0</td>\n",
       "    </tr>\n",
       "    <tr>\n",
       "      <th>2</th>\n",
       "      <td>a</td>\n",
       "      <td>1</td>\n",
       "      <td>1</td>\n",
       "    </tr>\n",
       "  </tbody>\n",
       "</table>\n",
       "</div>"
      ],
      "text/plain": [
       "  key  data1  data2\n",
       "0   a     -1     -1\n",
       "1   b      0      0\n",
       "2   a      1      1"
      ]
     },
     "execution_count": 6,
     "metadata": {},
     "output_type": "execute_result"
    }
   ],
   "source": [
    "import time\n",
    "import pandas as pd\n",
    " \n",
    "def square(x):\n",
    "    return x**2\n",
    " \n",
    "nums_df=pd.DataFrame({\"num\":range(10000000)}) # 创建dataframe,包含1千万行\n",
    " \n",
    "time_start=time.time()\n",
    "nums_df[\"square\"]=nums_df[\"num\"].apply(square) # 计算数组所有数的平方\n",
    "time_end=time.time()\n",
    " \n",
    "print(\"常规代码耗时 %f s\"%(time_end-time_start))  # 常规代码耗时 4.179099 s"
   ]
  },
  {
   "cell_type": "code",
   "execution_count": 7,
   "metadata": {},
   "outputs": [
    {
     "name": "stdout",
     "output_type": "stream",
     "text": [
      "74.5\n"
     ]
    }
   ],
   "source": [
    "import time\n",
    "import pandas as pd\n",
    "from pandarallel import pandarallel # 导入pandaralle\n",
    " \n",
    "pandarallel.initialize() # 初始化该这个b...并行库\n",
    " \n",
    "def square(x):\n",
    "    return x**2\n",
    " \n",
    "nums=list(range(10000000))\n",
    "nums_df=pd.DataFrame({\"num\":nums})\n",
    " \n",
    "time_start=time.time()\n",
    "nums_df[\"square\"]=nums_df[\"num\"].parallel_apply(square) # 计算数组所有数的平方,注意，用的是parallel_apply\n",
    "time_end=time.time()\n",
    " \n",
    "print(\"并行代码耗时 %f s\"%(time_end-time_start))  # 并行代码耗时 1.465182 s"
   ]
  },
  {
   "cell_type": "code",
   "execution_count": 13,
   "metadata": {},
   "outputs": [
    {
     "ename": "SyntaxError",
     "evalue": "expression cannot contain assignment, perhaps you meant \"==\"? (4054438432.py, line 4)",
     "output_type": "error",
     "traceback": [
      "\u001b[0;36m  Input \u001b[0;32mIn [13]\u001b[0;36m\u001b[0m\n\u001b[0;31m    d.loc[d['B'] > 9].apply(lambda x : x['C']=1)\u001b[0m\n\u001b[0m                            ^\u001b[0m\n\u001b[0;31mSyntaxError\u001b[0m\u001b[0;31m:\u001b[0m expression cannot contain assignment, perhaps you meant \"==\"?\n"
     ]
    }
   ],
   "source": [
    "import pandas as pd\n",
    "df = pd.DataFrame([['a', 9, 1],['a', 3, 2],['b', 9, 1]], columns=['A', 'B', 'C'])\n",
    "d = df.groupby('A').sum()\n",
    "\n",
    "def fun(x):\n",
    "    print(1)\n",
    "\n",
    "d.loc[d['B'] > 9].apply(lambda x : fun(x), axis=1)\n",
    "d"
   ]
  },
  {
   "cell_type": "code",
   "execution_count": null,
   "metadata": {},
   "outputs": [],
   "source": []
  }
 ],
 "metadata": {
  "kernelspec": {
   "display_name": "Python 3 (ipykernel)",
   "language": "python",
   "name": "python3"
  },
  "language_info": {
   "codemirror_mode": {
    "name": "ipython",
    "version": 3
   },
   "file_extension": ".py",
   "mimetype": "text/x-python",
   "name": "python",
   "nbconvert_exporter": "python",
   "pygments_lexer": "ipython3",
   "version": "3.8.5"
  },
  "vscode": {
   "interpreter": {
    "hash": "caf1c2fcf97217de91eafa76b907d50f9ea378f5ffbee7f571142d119bb6a771"
   }
  }
 },
 "nbformat": 4,
 "nbformat_minor": 4
}
